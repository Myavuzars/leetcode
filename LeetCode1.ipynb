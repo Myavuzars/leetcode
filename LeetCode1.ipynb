{
  "nbformat": 4,
  "nbformat_minor": 0,
  "metadata": {
    "colab": {
      "name": "LeetCode1.ipynb",
      "provenance": [],
      "authorship_tag": "ABX9TyN9xKoilwxSs1Ff6JRPLHpu",
      "include_colab_link": true
    },
    "kernelspec": {
      "name": "python3",
      "display_name": "Python 3"
    },
    "language_info": {
      "name": "python"
    }
  },
  "cells": [
    {
      "cell_type": "markdown",
      "metadata": {
        "id": "view-in-github",
        "colab_type": "text"
      },
      "source": [
        "<a href=\"https://colab.research.google.com/github/Myavuzars/leetcode/blob/main/LeetCode1.ipynb\" target=\"_parent\"><img src=\"https://colab.research.google.com/assets/colab-badge.svg\" alt=\"Open In Colab\"/></a>"
      ]
    },
    {
      "cell_type": "markdown",
      "metadata": {
        "id": "XLE1TQQ0pAM6"
      },
      "source": [
        "Add Two Numbers\n",
        "\n",
        "You are given two non-empty linked lists representing two non-negative integers. The digits are stored in reverse order, and each of their nodes contains a single digit. Add the two numbers and return the sum as a linked list.\n",
        "\n",
        "You may assume the two numbers do not contain any leading zero, except the number 0 itself.\n",
        "\n",
        "input1: l1=[2,4,3] and l2=[5,6,4] output= [7,0,8]"
      ]
    },
    {
      "cell_type": "code",
      "metadata": {
        "id": "GOK-Of2s8AXR"
      },
      "source": [
        "def sums(l1,l2):\n",
        "  l11 = l1[::-1]\n",
        "  l22 = l2[::-1]\n",
        "  print(l11)\n",
        "  print(l22)\n",
        "  st1 = ''.join(str(e)for e in l11)\n",
        "  st2 = ''.join(str(e)for e in l22)\n",
        "  result = str(int(st1)+ int(st2))\n",
        "  y=list(result)\n",
        "  final =[int(item)for item in y[::-1]]\n",
        "  return final\n",
        "\n"
      ],
      "execution_count": null,
      "outputs": []
    },
    {
      "cell_type": "code",
      "metadata": {
        "colab": {
          "base_uri": "https://localhost:8080/"
        },
        "id": "jM6l8tojrXQ8",
        "outputId": "b514515f-fce9-4280-95d6-1c8f2b3a0364"
      },
      "source": [
        "sums([2,4,3],[5,6,4])"
      ],
      "execution_count": null,
      "outputs": [
        {
          "output_type": "stream",
          "name": "stdout",
          "text": [
            "[3, 4, 2]\n",
            "[4, 6, 5]\n"
          ]
        },
        {
          "output_type": "execute_result",
          "data": {
            "text/plain": [
              "[7, 0, 8]"
            ]
          },
          "metadata": {},
          "execution_count": 216
        }
      ]
    },
    {
      "cell_type": "code",
      "metadata": {
        "id": "t9gutOpVqbAC"
      },
      "source": [
        "#Second Solution:\n",
        "def sums2(l1,l2):\n",
        "  l11 = l1[::-1]\n",
        "  l22 = l2[::-1]\n",
        "  st1 = ''.join(map(str,l11))\n",
        "  st2 = ''.join(map(str,l22))\n",
        "  result = str(int(st1)+ int(st2))\n",
        "  final =list(map(int,result))\n",
        "  final.reverse()\n",
        "  return final\n",
        "\n"
      ],
      "execution_count": null,
      "outputs": []
    },
    {
      "cell_type": "code",
      "metadata": {
        "colab": {
          "base_uri": "https://localhost:8080/"
        },
        "id": "cP8DwTebsOSL",
        "outputId": "8e3f2fa7-f918-45e1-9731-8e1681f134db"
      },
      "source": [
        "sums2([2,4,3],[5,6,4])"
      ],
      "execution_count": null,
      "outputs": [
        {
          "output_type": "execute_result",
          "data": {
            "text/plain": [
              "[7, 0, 8]"
            ]
          },
          "metadata": {},
          "execution_count": 217
        }
      ]
    },
    {
      "cell_type": "code",
      "metadata": {
        "id": "REpPI3hB9xS4"
      },
      "source": [
        "#Reverse Function without using built in methods"
      ],
      "execution_count": null,
      "outputs": []
    },
    {
      "cell_type": "code",
      "metadata": {
        "id": "hdglQnjVOLNJ",
        "colab": {
          "base_uri": "https://localhost:8080/"
        },
        "outputId": "cce309b8-6277-482d-981c-b349a7eae0d8"
      },
      "source": [
        "#Builtin method\n",
        "digits = [0, 1, 2, 3, 4, 5, 6, 7, 8, 9]\n",
        "reversed_digits = digits.reverse()\n",
        "digits"
      ],
      "execution_count": null,
      "outputs": [
        {
          "output_type": "execute_result",
          "data": {
            "text/plain": [
              "[9, 8, 7, 6, 5, 4, 3, 2, 1, 0]"
            ]
          },
          "metadata": {},
          "execution_count": 219
        }
      ]
    },
    {
      "cell_type": "code",
      "metadata": {
        "id": "4hX1jO9KOLPC",
        "colab": {
          "base_uri": "https://localhost:8080/"
        },
        "outputId": "1b69bc68-10dd-4dc1-d751-938491eb3122"
      },
      "source": [
        "#Method One\n",
        "def revers(list1):\n",
        "  newlist=[]\n",
        "  for i in range(len(list1)):\n",
        "    newlist.append(list1[-i-1])\n",
        "  return newlist\n",
        "\n",
        "\n",
        "digits = [0, 1, 2, 3, 4, 5, 6, 7, 8, 9]\n",
        "\n",
        "revers(digits)\n",
        "\n"
      ],
      "execution_count": null,
      "outputs": [
        {
          "output_type": "execute_result",
          "data": {
            "text/plain": [
              "[9, 8, 7, 6, 5, 4, 3, 2, 1, 0]"
            ]
          },
          "metadata": {},
          "execution_count": 234
        }
      ]
    },
    {
      "cell_type": "code",
      "metadata": {
        "colab": {
          "base_uri": "https://localhost:8080/"
        },
        "id": "Wkm3r6_atBUE",
        "outputId": "419c38c9-e5f2-4e11-857a-f5d10b715d38"
      },
      "source": [
        "#Method Two\n",
        "def revers2(mylist):\n",
        "  newlist=[]\n",
        "  while len(mylist)>0:\n",
        "    newlist.append(mylist.pop())\n",
        "  return(newlist)\n",
        "\n",
        "digits = [0, 1, 2, 3, 4, 5, 6, 7, 8, 9]\n",
        "revers2(digits)"
      ],
      "execution_count": null,
      "outputs": [
        {
          "output_type": "execute_result",
          "data": {
            "text/plain": [
              "[9, 8, 7, 6, 5, 4, 3, 2, 1, 0]"
            ]
          },
          "metadata": {},
          "execution_count": 235
        }
      ]
    },
    {
      "cell_type": "code",
      "metadata": {
        "id": "kHd42LUTspCv"
      },
      "source": [
        "#Reverse method after target item\n",
        "def revers3(list1, target):\n",
        "  newlist=[]\n",
        "  ran=len(list1)\n",
        "  for i in range(ran):\n",
        "    if i<target:\n",
        "      newlist.append(list1[-i-1-(ran-target)])\n",
        "    else:\n",
        "      newlist.append(list1[i])\n",
        "  return newlist"
      ],
      "execution_count": null,
      "outputs": []
    },
    {
      "cell_type": "code",
      "metadata": {
        "colab": {
          "base_uri": "https://localhost:8080/"
        },
        "id": "9G0Memx6PchK",
        "outputId": "13648c31-0b27-4062-c603-7f1549ffec6d"
      },
      "source": [
        "revers3([1,2,3,4,5,6],4)"
      ],
      "execution_count": null,
      "outputs": [
        {
          "output_type": "execute_result",
          "data": {
            "text/plain": [
              "[4, 3, 2, 1, 5, 6]"
            ]
          },
          "metadata": {},
          "execution_count": 240
        }
      ]
    },
    {
      "cell_type": "code",
      "metadata": {
        "id": "9lcohCtQvnjt"
      },
      "source": [
        "#Longest Substring without repeating characters\n",
        "\n",
        "#Given a string s, find the length of the longest substring without repeating characters.\n",
        "# s= \"abcabcbb\"\n",
        "#output=3\n",
        "\n",
        "#s='bbbbb'\n",
        "#output=1\n",
        "\n",
        "#s= \"pwwkew\"\n",
        "#output=3\n",
        "\n",
        "#s=''\n",
        "#output=0"
      ],
      "execution_count": null,
      "outputs": []
    },
    {
      "cell_type": "code",
      "metadata": {
        "id": "6mnRFqjdvnmq"
      },
      "source": [
        "def substring(s):\n",
        "  mylist=[]\n",
        "  newlist=[]\n",
        "  best=0\n",
        "  for i in s:\n",
        "    if i not in mylist:\n",
        "      mylist.append(i)\n",
        "      newlist = mylist\n",
        "      best= max(best,len(newlist))  \n",
        "    else:\n",
        "      mylist=[]\n",
        "      best =max(best,len(newlist))\n",
        "      continue  \n",
        "    \n",
        "  return best"
      ],
      "execution_count": null,
      "outputs": []
    },
    {
      "cell_type": "code",
      "metadata": {
        "colab": {
          "base_uri": "https://localhost:8080/"
        },
        "id": "ZB8oDBXFvnpg",
        "outputId": "7e4d5256-74ca-4a87-c80f-6235225d5bb1"
      },
      "source": [
        "substring('fyshosfnthjfmnf')"
      ],
      "execution_count": null,
      "outputs": [
        {
          "output_type": "execute_result",
          "data": {
            "text/plain": [
              "5"
            ]
          },
          "metadata": {},
          "execution_count": 58
        }
      ]
    },
    {
      "cell_type": "code",
      "metadata": {
        "id": "Z6HmAxA3vnr1"
      },
      "source": [
        "def sol(s):\n",
        "  newstr = \"\"\n",
        "  longest = 0\n",
        "  for i in s:\n",
        "    if i not in newstr:\n",
        "      newstr += i\n",
        "      longest= max(longest, len(newstr))\n",
        "    else:\n",
        "      idx = newstr.index(i)\n",
        "      print(\"idx\",idx)\n",
        "      newstr = newstr[idx + 1:]\n",
        "      newstr += i\n",
        "      longest= max(longest, len(newstr))\n",
        "    print(newstr)\n",
        "  return longest\n",
        "  \n",
        "\n"
      ],
      "execution_count": null,
      "outputs": []
    },
    {
      "cell_type": "code",
      "metadata": {
        "colab": {
          "base_uri": "https://localhost:8080/"
        },
        "id": "F0w2weG9xKQ9",
        "outputId": "9e1c71cc-46c4-4dc7-c253-ca993abe0e76"
      },
      "source": [
        "sol('fyshosfnthjfmnf')"
      ],
      "execution_count": null,
      "outputs": [
        {
          "output_type": "stream",
          "name": "stdout",
          "text": [
            "f\n",
            "fy\n",
            "fys\n",
            "fysh\n",
            "fysho\n",
            "idx 2\n",
            "hos\n",
            "hosf\n",
            "hosfn\n",
            "hosfnt\n",
            "idx 0\n",
            "osfnth\n",
            "osfnthj\n",
            "idx 2\n",
            "nthjf\n",
            "nthjfm\n",
            "idx 0\n",
            "thjfmn\n",
            "idx 3\n",
            "mnf\n"
          ]
        },
        {
          "output_type": "execute_result",
          "data": {
            "text/plain": [
              "7"
            ]
          },
          "metadata": {},
          "execution_count": 60
        }
      ]
    },
    {
      "cell_type": "code",
      "metadata": {
        "id": "oHvwEKNm4XVK"
      },
      "source": [
        "#Find the number of characters\n",
        "x='aabnbbdeec'"
      ],
      "execution_count": 40,
      "outputs": []
    },
    {
      "cell_type": "code",
      "metadata": {
        "colab": {
          "base_uri": "https://localhost:8080/",
          "height": 35
        },
        "id": "q-8xjJAy4XXF",
        "outputId": "c8156b19-01ec-4ad4-8716-4c93480a9422"
      },
      "source": [
        "def counts(s):\n",
        "  count=1\n",
        "  news=''  \n",
        "  s= s+'3'\n",
        "  for i in range(len(s)-1):          \n",
        "    if s[i]==s[i+1]:\n",
        "      #print(\"si\",s[i])\n",
        "      count +=1\n",
        "    if s[i]!=s[i+1]:\n",
        "      news=news+str(s[i])+str(count)\n",
        "      #print(\"c\",count) \n",
        "      count=1       \n",
        "      #print(news)\n",
        "\n",
        "  return news    \n",
        "\n",
        "\n",
        "counts(x)"
      ],
      "execution_count": 42,
      "outputs": [
        {
          "output_type": "execute_result",
          "data": {
            "application/vnd.google.colaboratory.intrinsic+json": {
              "type": "string"
            },
            "text/plain": [
              "'a2b1n1b2d1e2c1'"
            ]
          },
          "metadata": {},
          "execution_count": 42
        }
      ]
    },
    {
      "cell_type": "code",
      "metadata": {
        "id": "xRKU74qmGb4r",
        "colab": {
          "base_uri": "https://localhost:8080/",
          "height": 35
        },
        "outputId": "a9b2fd94-989e-4dc4-f10a-116451788fcd"
      },
      "source": [
        "counts('aabbbc')\n",
        "#solution='a2b3c1'"
      ],
      "execution_count": 43,
      "outputs": [
        {
          "output_type": "execute_result",
          "data": {
            "application/vnd.google.colaboratory.intrinsic+json": {
              "type": "string"
            },
            "text/plain": [
              "'a2b3c1'"
            ]
          },
          "metadata": {},
          "execution_count": 43
        }
      ]
    }
  ]
}